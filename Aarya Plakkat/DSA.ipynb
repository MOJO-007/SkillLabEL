{
 "cells": [
  {
   "cell_type": "code",
   "execution_count": 1,
   "id": "0e567ce6-b7cb-4471-bbee-3c784eb44ba4",
   "metadata": {},
   "outputs": [
    {
     "name": "stdout",
     "output_type": "stream",
     "text": [
      "4 2 7 8 5 6 3 1 "
     ]
    }
   ],
   "source": [
    "\n",
    "class Node:\n",
    "    def __init__(self, data=None, left=None, right=None):\n",
    "        self.data = data\n",
    "        self.left = left\n",
    "        self.right = right\n",
    " \n",
    " \n",
    "\n",
    "def postorder(root):\n",
    " \n",
    "   \n",
    "    if root is None:\n",
    "        return\n",
    " \n",
    "  \n",
    "    postorder(root.left)\n",
    " \n",
    "  \n",
    "    postorder(root.right)\n",
    " \n",
    "  \n",
    "    print(root.data, end=' ')\n",
    " \n",
    " \n",
    "if __name__ == '__main__':\n",
    "\n",
    " \n",
    "    root = Node(1)\n",
    "    root.left = Node(2)\n",
    "    root.right = Node(3)\n",
    "    root.left.left = Node(4)\n",
    "    root.right.left = Node(5)\n",
    "    root.right.right = Node(6)\n",
    "    root.right.left.left = Node(7)\n",
    "    root.right.left.right = Node(8)\n",
    " \n",
    "    postorder(root)\n",
    " "
   ]
  },
  {
   "cell_type": "code",
   "execution_count": 3,
   "id": "4496b809-ebc1-4d36-b3c4-92c0b2a98562",
   "metadata": {},
   "outputs": [
    {
     "name": "stdout",
     "output_type": "stream",
     "text": [
      "10\n"
     ]
    }
   ],
   "source": [
    "\n",
    "\n",
    "class Node:\n",
    "    def __init__(self, x):\n",
    "        self.data = x\n",
    "        self.next = None\n",
    "\n",
    "\n",
    "def findFirstNode(head):\n",
    "    \n",
    "\n",
    "    st = set()  \n",
    "    \n",
    "    currNode = head  \n",
    "    \n",
    " \n",
    "    while currNode is not None:\n",
    "      \n",
    "      \n",
    "        if currNode in st:\n",
    "            return currNode\n",
    "        \n",
    "     \n",
    "        st.add(currNode)\n",
    "        \n",
    "  \n",
    "        currNode = currNode.next\n",
    "    \n",
    " \n",
    "    return None\n",
    "\n",
    "if __name__ == \"__main__\":\n",
    "  \n",
    "\n",
    "    head = Node(10)\n",
    "    head.next = Node(15)\n",
    "    head.next.next = Node(4)\n",
    "    head.next.next.next = Node(20)\n",
    "\n",
    "    head.next.next.next.next = head\n",
    "\n",
    "    loopNode = findFirstNode(head)\n",
    "\n",
    "    if loopNode:\n",
    "        print(loopNode.data)\n",
    "    else:\n",
    "        print(-1)"
   ]
  },
  {
   "cell_type": "code",
   "execution_count": null,
   "id": "dc588568-6c94-4d1a-b3b9-0e026d0ce888",
   "metadata": {},
   "outputs": [],
   "source": []
  }
 ],
 "metadata": {
  "kernelspec": {
   "display_name": "Python 3 (ipykernel)",
   "language": "python",
   "name": "python3"
  },
  "language_info": {
   "codemirror_mode": {
    "name": "ipython",
    "version": 3
   },
   "file_extension": ".py",
   "mimetype": "text/x-python",
   "name": "python",
   "nbconvert_exporter": "python",
   "pygments_lexer": "ipython3",
   "version": "3.12.4"
  }
 },
 "nbformat": 4,
 "nbformat_minor": 5
}
